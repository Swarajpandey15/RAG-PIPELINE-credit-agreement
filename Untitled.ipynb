{
 "cells": [
  {
   "cell_type": "code",
   "execution_count": null,
   "metadata": {},
   "outputs": [],
   "source": [
    "import os\n",
    "import getpass\n",
    "import textwrap\n",
    "import time\n",
    "import locale\n",
    "import json\n",
    "import re\n",
    "import torch\n",
    "from time import time\n",
    "import json\n",
    "\n",
    "# Llama Index\n",
    "from llama_index.core import Document\n",
    "from llama_index.core import SimpleDirectoryReader, Document, VectorStoreIndex, ServiceContext, StorageContext\n",
    "from llama_index.llms.openai import OpenAI\n",
    "from llama_index.core.node_parser import SimpleNodeParser, SentenceWindowNodeParser\n",
    "from llama_index.vector_stores import DeepLakeVectorStore\n",
    "from llama_index.embeddings.openai import OpenAIEmbedding\n",
    "from llama_index.evaluation import generate_question_context_pairs, CorrectnessEvaluator, RelevancyEvaluator, FaithfulnessEvaluator, BatchEvalRunner, RetrieverEvaluator\n",
    "from llama_index.embeddings.cohereai import CohereEmbedding\n",
    "from llama_index.text_splitter import SentenceSplitter\n",
    "from llama_index.indices.postprocessor import MetadataReplacementPostProcessor, SentenceTransformerRerank\n",
    "from llama_index.finetuning.embeddings.common import EmbeddingQAFinetuneDataset"
   ]
  },
  {
   "cell_type": "code",
   "execution_count": null,
   "metadata": {},
   "outputs": [],
   "source": [
    "import os\n",
    "\n",
    "import openai\n",
    "\n",
    "# Directly use your API key\n",
    "openai.api_key = \"414\""
   ]
  },
  {
   "cell_type": "code",
   "execution_count": null,
   "metadata": {},
   "outputs": [
    {
     "ename": "SyntaxError",
     "evalue": "invalid syntax (4285279011.py, line 1)",
     "output_type": "error",
     "traceback": [
      "\u001b[1;36m  Cell \u001b[1;32mIn[1], line 1\u001b[1;36m\u001b[0m\n\u001b[1;33m    ***IMPORTING HTML FILES***\u001b[0m\n\u001b[1;37m    ^\u001b[0m\n\u001b[1;31mSyntaxError\u001b[0m\u001b[1;31m:\u001b[0m invalid syntax\n"
     ]
    }
   ],
   "source": []
  },
  {
   "cell_type": "markdown",
   "metadata": {},
   "source": [
    "***IMPORTING HTML FILES***"
   ]
  },
  {
   "cell_type": "code",
   "execution_count": null,
   "metadata": {},
   "outputs": [],
   "source": [
    "data_folder = \"New folder\"\n",
    "\n",
    "# Create a SimpleDirectoryReader object to read data from the specified folder\n",
    "reader = SimpleDirectoryReader(\n",
    "    input_dir=data_folder,  # Set the input directory\n",
    "    recursive=True,  # Enable recursive scanning through subdirectories\n",
    ")\n",
    "\n",
    "# Create an empty list to store all documents\n",
    "documents = []\n",
    "\n",
    "# Iterate through the data returned by the reader and append each document to the 'documents' list\n",
    "for docs in reader.iter_data():\n",
    "    for doc in docs:\n",
    "        documents.append(doc)"
   ]
  },
  {
   "cell_type": "markdown",
   "metadata": {},
   "source": [
    "***CLEANING THE DOCUMENT***"
   ]
  },
  {
   "cell_type": "code",
   "execution_count": null,
   "metadata": {},
   "outputs": [],
   "source": [
    "import re\n",
    "\n",
    "# Function to clean text by removing HTML tags and replacing multiple spaces with a single space\n",
    "def clean_text(text):\n",
    "    if text is None:\n",
    "        return \"\"\n",
    "    # Remove HTML tags\n",
    "    text = re.sub(r'<[^>]+>', '', text)\n",
    "    # Replace multiple consecutive whitespace with a single space\n",
    "    text = re.sub(r'\\s+', ' ', text)\n",
    "    # Strip leading and trailing whitespace\n",
    "    return text.strip()\n",
    "\n",
    "# Example usage with debugging output\n",
    "cleaned_documents = []\n",
    "for doc in documents:\n",
    "    original_text = getattr(doc, 'text', None)  # Retrieve 'text' attribute safely\n",
    "    print(f\"Original text: {original_text}\")  # Debug: print original text\n",
    "\n",
    "    cleaned_text = clean_text(original_text)\n",
    "    print(f\"Cleaned text: {cleaned_text}\")  # Debug: print cleaned text\n",
    "\n",
    "    cleaned_documents.append(cleaned_text)"
   ]
  },
  {
   "cell_type": "markdown",
   "metadata": {},
   "source": [
    "***JOINING ALL THE TEXTS***"
   ]
  },
  {
   "cell_type": "markdown",
   "metadata": {},
   "source": []
  },
  {
   "cell_type": "code",
   "execution_count": null,
   "metadata": {},
   "outputs": [],
   "source": [
    "document = Document(text=\"\\n\\n\".join([doc for doc in cleaned_documents]))\n",
    "\n",
    "text_content = document.get_text()\n",
    "print(type(document))\n",
    "print(text_content[:500])"
   ]
  },
  {
   "cell_type": "code",
   "execution_count": null,
   "metadata": {},
   "outputs": [],
   "source": [
    "from llama_index.embeddings.openai import OpenAIEmbedding\n",
    "from llama_index.core.node_parser import SentenceSplitter\n",
    "from llama_index.llms.openai import OpenAI\n",
    "from llama_index.core import Settings\n",
    "from llama_index.core import Document\n",
    "\n",
    "\n",
    "Settings.llm = OpenAI(model=\"gpt-3.5-turbo\")\n",
    "Settings.embed_model = OpenAIEmbedding(model=\"text-embedding-ada-002\")\n",
    "index = VectorStoreIndex.from_documents(\n",
    "    [document],  # List of documents to index\n",
    "    settings=Settings  # Settings now incorporate llm and embedding model\n",
    ")"
   ]
  },
  {
   "cell_type": "markdown",
   "metadata": {},
   "source": [
    "**Basic Query Retrieval**"
   ]
  },
  {
   "cell_type": "code",
   "execution_count": null,
   "metadata": {},
   "outputs": [],
   "source": [
    "query_engine = index.as_query_engine()\n",
    "\n",
    "# Submit a Query String\n",
    "response = query_engine.query(\n",
    "    \"BOXLIGHT CORPORATION agreement summary\")\n",
    "\n",
    "print(str(response))"
   ]
  },
  {
   "cell_type": "code",
   "execution_count": null,
   "metadata": {},
   "outputs": [
    {
     "ename": "SyntaxError",
     "evalue": "invalid syntax (4174097857.py, line 1)",
     "output_type": "error",
     "traceback": [
      "\u001b[1;36m  Cell \u001b[1;32mIn[2], line 1\u001b[1;36m\u001b[0m\n\u001b[1;33m    ***LOADING TXT CHUNKS***\u001b[0m\n\u001b[1;37m    ^\u001b[0m\n\u001b[1;31mSyntaxError\u001b[0m\u001b[1;31m:\u001b[0m invalid syntax\n"
     ]
    }
   ],
   "source": []
  },
  {
   "cell_type": "markdown",
   "metadata": {},
   "source": [
    "***LOADING TXT CHUNKS***"
   ]
  },
  {
   "cell_type": "code",
   "execution_count": null,
   "metadata": {},
   "outputs": [],
   "source": [
    "try:\n",
    "    with open(\"generated_context.txt\", \"r\", encoding=\"utf-8-sig\", errors='replace') as file:\n",
    "        text_chunks = [line.strip() for line in file.readlines() if line.strip()]\n",
    "except Exception as e:\n",
    "    print(f\"An error occurred while reading the text chunks: {e}\")"
   ]
  },
  {
   "cell_type": "code",
   "execution_count": null,
   "metadata": {},
   "outputs": [],
   "source": [
    "from llama_index.embeddings.openai import OpenAIEmbedding\n",
    "from llama_index.core import VectorStoreIndex, Document\n",
    "\n",
    "# Assuming `text_chunks` is your list of chunks\n",
    "documents = [Document(text=chunk) for chunk in text_chunks]  # Convert each chunk to a Document\n",
    "\n",
    "# Set up embedding model\n",
    "embedding_model = OpenAIEmbedding(model=\"text-embedding-ada-002\")\n",
    "index = VectorStoreIndex.from_documents(documents, embed_model=embedding_model)"
   ]
  },
  {
   "cell_type": "code",
   "execution_count": null,
   "metadata": {},
   "outputs": [],
   "source": [
    "query_engine = index.as_query_engine()"
   ]
  },
  {
   "cell_type": "markdown",
   "metadata": {},
   "source": []
  },
  {
   "cell_type": "markdown",
   "metadata": {},
   "source": [
    "***query score***"
   ]
  },
  {
   "cell_type": "code",
   "execution_count": null,
   "metadata": {},
   "outputs": [],
   "source": [
    "query = \"What are the main conditions in the credit agreements?\"\n",
    "response = query_engine.query(query)\n",
    "\n",
    "# Display results with scores\n",
    "for idx, node in enumerate(response.source_nodes, 1):\n",
    "    print(f\"Result {idx}:\")\n",
    "    print(f\"Text: {node.text}\")\n",
    "    print(f\"Score: {node.score}\\n\")"
   ]
  },
  {
   "cell_type": "markdown",
   "metadata": {},
   "source": []
  },
  {
   "cell_type": "markdown",
   "metadata": {},
   "source": [
    "***q and a pipeline***"
   ]
  },
  {
   "cell_type": "code",
   "execution_count": null,
   "metadata": {},
   "outputs": [],
   "source": [
    "import json\n",
    "import openai\n",
    "\n",
    "# Set your OpenAI API key\n",
    "openai.api_key = \"312\"\n",
    "# Function to generate a question based on the provided text context\n",
    "def generate_question(text):\n",
    "    try:\n",
    "        response = openai.chat.completions.create(\n",
    "            model=\"gpt-4\",\n",
    "            messages=[\n",
    "                {\"role\": \"system\", \"content\": \"You are a world-class expert for generating questions based on provided context. You make sure the question can be answered by the text.\"},\n",
    "                {\"role\": \"user\", \"content\": text},\n",
    "            ],\n",
    "        )\n",
    "        return response.choices[0].message.content\n",
    "    except Exception as e:\n",
    "        print(f\"Error generating question: {e}\")\n",
    "        return \"No question generated\"\n",
    "\n",
    "# Load text chunks from the 'generated_context.txt' file\n",
    "# Load text chunks from the 'generated_context.txt' file with UTF-8 encoding\n",
    "with open(\"generated_context.txt\", \"r\", encoding=\"utf-8\") as file:\n",
    "    text_chunks = [line.strip() for line in file.readlines() if line.strip()]\n",
    "\n",
    "\n",
    "# Generate question-context pairs\n",
    "def generate_question_context_pairs(text_chunks, num_questions_per_chunk=1):\n",
    "    question_context_pairs = []\n",
    "    \n",
    "    for chunk in text_chunks:\n",
    "        for _ in range(num_questions_per_chunk):\n",
    "            question = generate_question(chunk)  # Generate a question for each chunk\n",
    "            question_context_pairs.append((question, chunk))\n",
    "    \n",
    "    return question_context_pairs\n",
    "\n",
    "# Generate the question-context pairs from the loaded chunks\n",
    "qc_dataset = generate_question_context_pairs(text_chunks, num_questions_per_chunk=1)\n",
    "\n",
    "# Save the generated dataset as a JSON file\n",
    "with open(\"qc_dataset.json\", \"w\") as json_file:\n",
    "    json.dump(qc_dataset, json_file, indent=4)\n",
    "\n",
    "print(\"Question-context pairs generated and saved to qc_dataset.json.\")\n"
   ]
  }
 ],
 "metadata": {
  "kernelspec": {
   "display_name": "Python 3",
   "language": "python",
   "name": "python3"
  },
  "language_info": {
   "codemirror_mode": {
    "name": "ipython",
    "version": 3
   },
   "file_extension": ".py",
   "mimetype": "text/x-python",
   "name": "python",
   "nbconvert_exporter": "python",
   "pygments_lexer": "ipython3",
   "version": "3.12.4"
  }
 },
 "nbformat": 4,
 "nbformat_minor": 2
}
